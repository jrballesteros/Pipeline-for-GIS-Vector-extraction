{
 "cells": [
  {
   "cell_type": "code",
   "execution_count": 2,
   "metadata": {
    "ExecuteTime": {
     "end_time": "2021-04-27T12:08:53.339064Z",
     "start_time": "2021-04-27T12:08:46.822242Z"
    },
    "tags": []
   },
   "outputs": [
    {
     "name": "stderr",
     "output_type": "stream",
     "text": [
      "Using TensorFlow backend.\n"
     ]
    }
   ],
   "source": [
    "\n",
    "# Example of loading a pix2pix model and using it for one-off image translation\n",
    "\n",
    "import osr\n",
    "import gdal\n",
    "from keras.models import load_model\n",
    "from keras.preprocessing.image import img_to_array\n",
    "from keras.preprocessing.image import load_img\n",
    "from numpy import load\n",
    "from numpy import expand_dims\n",
    "import numpy as np\n",
    "import matplotlib.pyplot as plt\n",
    "import matplotlib.image as mpimg\n",
    "import geopandas as gp\n",
    "from pathlib import Path\n",
    "import os\n",
    "from PIL import Image\n",
    "#from skimage.morphology import skeletonize\n",
    "#from skimage.io import imread\n",
    "#from skimage.io import imsave\n",
    "\n",
    "# load an image\n",
    "def load_image(myfile, size=(256,256)):\n",
    "    # load image with the preferred size\n",
    "    pixels = load_img(myfile, target_size=size)\n",
    "    # convert to numpy array\n",
    "    pixels = img_to_array(pixels)\n",
    "    # scale from [0,255] to [-1,1] las gans trabajan centradas en el origen\n",
    "    pixels = (pixels - 127.5) / 127.5\n",
    "    # reshape to 1 sample\n",
    "    pixels = expand_dims(pixels, 0)\n",
    "    return pixels\n"
   ]
  },
  {
   "cell_type": "code",
   "execution_count": 3,
   "metadata": {
    "ExecuteTime": {
     "end_time": "2021-04-27T12:08:58.031754Z",
     "start_time": "2021-04-27T12:08:57.535482Z"
    },
    "collapsed": true
   },
   "outputs": [
    {
     "ename": "ValueError",
     "evalue": "Unknown layer: Functional",
     "output_type": "error",
     "traceback": [
      "\u001b[1;31m---------------------------------------------------------------------------\u001b[0m",
      "\u001b[1;31mValueError\u001b[0m                                Traceback (most recent call last)",
      "\u001b[1;32m<ipython-input-3-1468e3198360>\u001b[0m in \u001b[0;36m<module>\u001b[1;34m\u001b[0m\n\u001b[0;32m     18\u001b[0m \u001b[1;31m#modelname = 'model_127700_atributed_roads.h5'\u001b[0m\u001b[1;33m\u001b[0m\u001b[1;33m\u001b[0m\u001b[1;33m\u001b[0m\u001b[0m\n\u001b[0;32m     19\u001b[0m \u001b[0mmodelname\u001b[0m \u001b[1;33m=\u001b[0m \u001b[1;34m'model_030000.h5'\u001b[0m\u001b[1;33m\u001b[0m\u001b[1;33m\u001b[0m\u001b[0m\n\u001b[1;32m---> 20\u001b[1;33m \u001b[0mmodel\u001b[0m \u001b[1;33m=\u001b[0m \u001b[0mload_model\u001b[0m\u001b[1;33m(\u001b[0m\u001b[0msegmenter_path\u001b[0m\u001b[1;33m+\u001b[0m\u001b[1;34m'/'\u001b[0m\u001b[1;33m+\u001b[0m\u001b[0mmodelname\u001b[0m\u001b[1;33m)\u001b[0m\u001b[1;33m\u001b[0m\u001b[1;33m\u001b[0m\u001b[0m\n\u001b[0m",
      "\u001b[1;32m~\\AppData\\Roaming\\Python\\Python37\\site-packages\\keras\\engine\\saving.py\u001b[0m in \u001b[0;36mload_wrapper\u001b[1;34m(*args, **kwargs)\u001b[0m\n\u001b[0;32m    490\u001b[0m                 \u001b[0mos\u001b[0m\u001b[1;33m.\u001b[0m\u001b[0mremove\u001b[0m\u001b[1;33m(\u001b[0m\u001b[0mtmp_filepath\u001b[0m\u001b[1;33m)\u001b[0m\u001b[1;33m\u001b[0m\u001b[1;33m\u001b[0m\u001b[0m\n\u001b[0;32m    491\u001b[0m             \u001b[1;32mreturn\u001b[0m \u001b[0mres\u001b[0m\u001b[1;33m\u001b[0m\u001b[1;33m\u001b[0m\u001b[0m\n\u001b[1;32m--> 492\u001b[1;33m         \u001b[1;32mreturn\u001b[0m \u001b[0mload_function\u001b[0m\u001b[1;33m(\u001b[0m\u001b[1;33m*\u001b[0m\u001b[0margs\u001b[0m\u001b[1;33m,\u001b[0m \u001b[1;33m**\u001b[0m\u001b[0mkwargs\u001b[0m\u001b[1;33m)\u001b[0m\u001b[1;33m\u001b[0m\u001b[1;33m\u001b[0m\u001b[0m\n\u001b[0m\u001b[0;32m    493\u001b[0m \u001b[1;33m\u001b[0m\u001b[0m\n\u001b[0;32m    494\u001b[0m     \u001b[1;32mreturn\u001b[0m \u001b[0mload_wrapper\u001b[0m\u001b[1;33m\u001b[0m\u001b[1;33m\u001b[0m\u001b[0m\n",
      "\u001b[1;32m~\\AppData\\Roaming\\Python\\Python37\\site-packages\\keras\\engine\\saving.py\u001b[0m in \u001b[0;36mload_model\u001b[1;34m(filepath, custom_objects, compile)\u001b[0m\n\u001b[0;32m    582\u001b[0m     \u001b[1;32mif\u001b[0m \u001b[0mH5Dict\u001b[0m\u001b[1;33m.\u001b[0m\u001b[0mis_supported_type\u001b[0m\u001b[1;33m(\u001b[0m\u001b[0mfilepath\u001b[0m\u001b[1;33m)\u001b[0m\u001b[1;33m:\u001b[0m\u001b[1;33m\u001b[0m\u001b[1;33m\u001b[0m\u001b[0m\n\u001b[0;32m    583\u001b[0m         \u001b[1;32mwith\u001b[0m \u001b[0mH5Dict\u001b[0m\u001b[1;33m(\u001b[0m\u001b[0mfilepath\u001b[0m\u001b[1;33m,\u001b[0m \u001b[0mmode\u001b[0m\u001b[1;33m=\u001b[0m\u001b[1;34m'r'\u001b[0m\u001b[1;33m)\u001b[0m \u001b[1;32mas\u001b[0m \u001b[0mh5dict\u001b[0m\u001b[1;33m:\u001b[0m\u001b[1;33m\u001b[0m\u001b[1;33m\u001b[0m\u001b[0m\n\u001b[1;32m--> 584\u001b[1;33m             \u001b[0mmodel\u001b[0m \u001b[1;33m=\u001b[0m \u001b[0m_deserialize_model\u001b[0m\u001b[1;33m(\u001b[0m\u001b[0mh5dict\u001b[0m\u001b[1;33m,\u001b[0m \u001b[0mcustom_objects\u001b[0m\u001b[1;33m,\u001b[0m \u001b[0mcompile\u001b[0m\u001b[1;33m)\u001b[0m\u001b[1;33m\u001b[0m\u001b[1;33m\u001b[0m\u001b[0m\n\u001b[0m\u001b[0;32m    585\u001b[0m     \u001b[1;32melif\u001b[0m \u001b[0mhasattr\u001b[0m\u001b[1;33m(\u001b[0m\u001b[0mfilepath\u001b[0m\u001b[1;33m,\u001b[0m \u001b[1;34m'write'\u001b[0m\u001b[1;33m)\u001b[0m \u001b[1;32mand\u001b[0m \u001b[0mcallable\u001b[0m\u001b[1;33m(\u001b[0m\u001b[0mfilepath\u001b[0m\u001b[1;33m.\u001b[0m\u001b[0mwrite\u001b[0m\u001b[1;33m)\u001b[0m\u001b[1;33m:\u001b[0m\u001b[1;33m\u001b[0m\u001b[1;33m\u001b[0m\u001b[0m\n\u001b[0;32m    586\u001b[0m         \u001b[1;32mdef\u001b[0m \u001b[0mload_function\u001b[0m\u001b[1;33m(\u001b[0m\u001b[0mh5file\u001b[0m\u001b[1;33m)\u001b[0m\u001b[1;33m:\u001b[0m\u001b[1;33m\u001b[0m\u001b[1;33m\u001b[0m\u001b[0m\n",
      "\u001b[1;32m~\\AppData\\Roaming\\Python\\Python37\\site-packages\\keras\\engine\\saving.py\u001b[0m in \u001b[0;36m_deserialize_model\u001b[1;34m(h5dict, custom_objects, compile)\u001b[0m\n\u001b[0;32m    272\u001b[0m         \u001b[1;32mraise\u001b[0m \u001b[0mValueError\u001b[0m\u001b[1;33m(\u001b[0m\u001b[1;34m'No model found in config.'\u001b[0m\u001b[1;33m)\u001b[0m\u001b[1;33m\u001b[0m\u001b[1;33m\u001b[0m\u001b[0m\n\u001b[0;32m    273\u001b[0m     \u001b[0mmodel_config\u001b[0m \u001b[1;33m=\u001b[0m \u001b[0mjson\u001b[0m\u001b[1;33m.\u001b[0m\u001b[0mloads\u001b[0m\u001b[1;33m(\u001b[0m\u001b[0mmodel_config\u001b[0m\u001b[1;33m.\u001b[0m\u001b[0mdecode\u001b[0m\u001b[1;33m(\u001b[0m\u001b[1;34m'utf-8'\u001b[0m\u001b[1;33m)\u001b[0m\u001b[1;33m)\u001b[0m\u001b[1;33m\u001b[0m\u001b[1;33m\u001b[0m\u001b[0m\n\u001b[1;32m--> 274\u001b[1;33m     \u001b[0mmodel\u001b[0m \u001b[1;33m=\u001b[0m \u001b[0mmodel_from_config\u001b[0m\u001b[1;33m(\u001b[0m\u001b[0mmodel_config\u001b[0m\u001b[1;33m,\u001b[0m \u001b[0mcustom_objects\u001b[0m\u001b[1;33m=\u001b[0m\u001b[0mcustom_objects\u001b[0m\u001b[1;33m)\u001b[0m\u001b[1;33m\u001b[0m\u001b[1;33m\u001b[0m\u001b[0m\n\u001b[0m\u001b[0;32m    275\u001b[0m     \u001b[0mmodel_weights_group\u001b[0m \u001b[1;33m=\u001b[0m \u001b[0mh5dict\u001b[0m\u001b[1;33m[\u001b[0m\u001b[1;34m'model_weights'\u001b[0m\u001b[1;33m]\u001b[0m\u001b[1;33m\u001b[0m\u001b[1;33m\u001b[0m\u001b[0m\n\u001b[0;32m    276\u001b[0m \u001b[1;33m\u001b[0m\u001b[0m\n",
      "\u001b[1;32m~\\AppData\\Roaming\\Python\\Python37\\site-packages\\keras\\engine\\saving.py\u001b[0m in \u001b[0;36mmodel_from_config\u001b[1;34m(config, custom_objects)\u001b[0m\n\u001b[0;32m    625\u001b[0m                         '`Sequential.from_config(config)`?')\n\u001b[0;32m    626\u001b[0m     \u001b[1;32mfrom\u001b[0m \u001b[1;33m.\u001b[0m\u001b[1;33m.\u001b[0m\u001b[0mlayers\u001b[0m \u001b[1;32mimport\u001b[0m \u001b[0mdeserialize\u001b[0m\u001b[1;33m\u001b[0m\u001b[1;33m\u001b[0m\u001b[0m\n\u001b[1;32m--> 627\u001b[1;33m     \u001b[1;32mreturn\u001b[0m \u001b[0mdeserialize\u001b[0m\u001b[1;33m(\u001b[0m\u001b[0mconfig\u001b[0m\u001b[1;33m,\u001b[0m \u001b[0mcustom_objects\u001b[0m\u001b[1;33m=\u001b[0m\u001b[0mcustom_objects\u001b[0m\u001b[1;33m)\u001b[0m\u001b[1;33m\u001b[0m\u001b[1;33m\u001b[0m\u001b[0m\n\u001b[0m\u001b[0;32m    628\u001b[0m \u001b[1;33m\u001b[0m\u001b[0m\n\u001b[0;32m    629\u001b[0m \u001b[1;33m\u001b[0m\u001b[0m\n",
      "\u001b[1;32m~\\AppData\\Roaming\\Python\\Python37\\site-packages\\keras\\layers\\__init__.py\u001b[0m in \u001b[0;36mdeserialize\u001b[1;34m(config, custom_objects)\u001b[0m\n\u001b[0;32m    166\u001b[0m                                     \u001b[0mmodule_objects\u001b[0m\u001b[1;33m=\u001b[0m\u001b[0mglobs\u001b[0m\u001b[1;33m,\u001b[0m\u001b[1;33m\u001b[0m\u001b[1;33m\u001b[0m\u001b[0m\n\u001b[0;32m    167\u001b[0m                                     \u001b[0mcustom_objects\u001b[0m\u001b[1;33m=\u001b[0m\u001b[0mcustom_objects\u001b[0m\u001b[1;33m,\u001b[0m\u001b[1;33m\u001b[0m\u001b[1;33m\u001b[0m\u001b[0m\n\u001b[1;32m--> 168\u001b[1;33m                                     printable_module_name='layer')\n\u001b[0m",
      "\u001b[1;32m~\\AppData\\Roaming\\Python\\Python37\\site-packages\\keras\\utils\\generic_utils.py\u001b[0m in \u001b[0;36mdeserialize_keras_object\u001b[1;34m(identifier, module_objects, custom_objects, printable_module_name)\u001b[0m\n\u001b[0;32m    138\u001b[0m             \u001b[1;32mif\u001b[0m \u001b[0mcls\u001b[0m \u001b[1;32mis\u001b[0m \u001b[1;32mNone\u001b[0m\u001b[1;33m:\u001b[0m\u001b[1;33m\u001b[0m\u001b[1;33m\u001b[0m\u001b[0m\n\u001b[0;32m    139\u001b[0m                 raise ValueError('Unknown ' + printable_module_name +\n\u001b[1;32m--> 140\u001b[1;33m                                  ': ' + class_name)\n\u001b[0m\u001b[0;32m    141\u001b[0m         \u001b[1;32mif\u001b[0m \u001b[0mhasattr\u001b[0m\u001b[1;33m(\u001b[0m\u001b[0mcls\u001b[0m\u001b[1;33m,\u001b[0m \u001b[1;34m'from_config'\u001b[0m\u001b[1;33m)\u001b[0m\u001b[1;33m:\u001b[0m\u001b[1;33m\u001b[0m\u001b[1;33m\u001b[0m\u001b[0m\n\u001b[0;32m    142\u001b[0m             \u001b[0mcustom_objects\u001b[0m \u001b[1;33m=\u001b[0m \u001b[0mcustom_objects\u001b[0m \u001b[1;32mor\u001b[0m \u001b[1;33m{\u001b[0m\u001b[1;33m}\u001b[0m\u001b[1;33m\u001b[0m\u001b[1;33m\u001b[0m\u001b[0m\n",
      "\u001b[1;31mValueError\u001b[0m: Unknown layer: Functional"
     ]
    }
   ],
   "source": [
    "\n",
    "# Nombre de los folders\n",
    "\n",
    "raster_in_folder_name = 'raster_in'\n",
    "data_folder_name = 'raster_to_shape'\n",
    "shape_out_folder_name = 'shape_out'\n",
    "raster_out_folder_name = 'raster_out'\n",
    "\n",
    "rasterin_folder = \"C:/Users/john/Downloads/AutoMap/datos/\"\n",
    "data_folder = \"C:/Users/john/Downloads/AutoMap/datos/\"\n",
    "shapeout_folder = \"C:/Users/john/Downloads/AutoMap/outputs/\"\n",
    "raster_out_folder = \"C:/Users/john/Downloads/AutoMap/outputs/\"\n",
    "\n",
    "segmenter_path = \"C:/Users/john/Downloads/AutoMap/model\"\n",
    "tiles_path = Path(data_folder + '/tiles')  # from Orthomosaics\n",
    "masks_path = Path(data_folder + '/masks')  # from roads in raster\n",
    "\n",
    "tile_width = 256\n",
    "tile_height = 256\n",
    "\n",
    "type = 'roads'\n",
    "#modelname = 'model_127700_atributed_roads.h5'\n",
    "modelname = 'model_030000.h5'\n",
    "model = load_model(segmenter_path+'/'+modelname)\n"
   ]
  },
  {
   "cell_type": "code",
   "execution_count": null,
   "metadata": {},
   "outputs": [],
   "source": [
    "\n",
    "for rasterin in os.listdir(rasterin_folder):\n",
    "    os.system('venv/bin/gdal_retile.py -ps ' + str(tile_width) + ' ' \n",
    "              + str(tile_height) + ' -targetDir ' + data_folder \n",
    "              + '/tiles ' + rasterin_folder + '/' + rasterin)\n",
    "\n",
    "    for img_name in os.listdir(data_folder + '/tiles'):\n",
    "        msk_name = 'mask_' + img_name\n",
    "        png_img_name = img_name.replace('.tif','.png')\n",
    "        png_msk_name = msk_name.replace('.tif','.png')\n",
    "        \n",
    "        source_raster = gdal.Open(data_folder + '/tiles/' + img_name)\n",
    "        srs_geotrans = source_raster.GetGeoTransform()\n",
    "        srs_proj = source_raster.GetProjection()\n",
    "\n",
    "        raster_path = tiles_path/img_name\n",
    "        img = load_image(raster_path)\n",
    "        res_img = model.predict(img)\n",
    "        # Imagen resultante se vuelve al intervalo [0,1]\n",
    "        res_img = (res_img + 1) / 2.0\n",
    "        \n",
    "        #plt.imshow(res_img[0])\n",
    "        #plt.axis('off')\n",
    "        #plt.show()\n",
    "\n",
    "        #print(masks_path/img_name)\n",
    "\n",
    "        mpimg.imsave(tiles_path/png_img_name, res_img[0])\n",
    "        mpimg.imsave(masks_path/png_msk_name, res_img[0])\n",
    "\n",
    "        rs_res_img = Image.open(data_folder + '/masks/' + png_img_name)\n",
    "        rs_res_img = rs_res_img.resize((tile_width, tile_height))\n",
    "        rs_res_img.save(data_folder + '/masks/' + img_name)\n",
    "\n",
    "        rs_res_mask = Image.open(data_folder + '/masks/' + png_msk_name)\n",
    "        rs_res_mask = rs_res_mask.resize((tile_width, tile_height))\n",
    "        rs_res_mask = rs_res_mask.convert('1',colors=1)\n",
    "        rs_res_mask.save(data_folder + '/masks/' + msk_name)\n",
    "\n",
    "        if(type == 'roads'):\n",
    "            image_to_sk = imread(data_folder + '/masks/' + msk_name)\n",
    "            rs_res_mask = skeletonize(image_to_sk)\n",
    "            imsave(data_folder + '/masks/' + msk_name,rs_res_mask)\n",
    "\n",
    "        dataset = gdal.Open(data_folder + '/masks/' + msk_name)\n",
    "\n",
    "        width = dataset.RasterXSize\n",
    "        height = dataset.RasterYSize\n",
    "        datas = dataset.ReadAsArray(0,0,width,height)\n",
    "        driver = gdal.GetDriverByName(\"GTiff\")\n",
    "        tods = driver.Create(data_folder + '/masks/srs_' + img_name,width,height,3,\n",
    "                             options=[\"INTERLEAVE=PIXEL\"])\n",
    "        tods.SetProjection(srs_proj)\n",
    "        tods.SetGeoTransform(srs_geotrans)\n",
    "        tods.WriteRaster(0,0,width,height,datas.tostring(),width,height,band_list=[1])\n",
    "        #tods = driver.Create(data_folder + '/masks/srs_' + img_name,width,height,3,\n",
    "                             options=[\"INTERLEAVE=PIXEL\"])\n",
    "        #tods.SetProjection(srs_proj)\n",
    "        #tods.SetGeoTransform(srs_geotrans)\n",
    "        #tods.WriteRaster(0,0,width,height,datas.tostring(),width,height,band_list=[1])\n",
    "\n",
    "        rasterfn = data_folder + '/masks/srs_' + img_name\n",
    "        maskfn = data_folder + '/masks/' + msk_name\n",
    "        outSHPfn = data_folder + '/shapes/' + img_name + '.shp'\n",
    "        os.system('venv/bin/gdal_polygonize.py -8 -f \"ESRI Shapefile\" -mask ' + \n",
    "                  maskfn + ' ' + rasterfn + ' ' + outSHPfn)\n",
    "\n",
    "    inSHPfn = data_folder + '/shapes/'\n",
    "    outSHPfn = shapeout_folder + '/' + rasterin.split('.')[0] + '_' + type\n",
    "    if os.path.exists(outSHPfn + '.shp'):\n",
    "        os.remove(outSHPfn + '.shp')\n",
    "    if os.path.exists(outSHPfn + '.dbf'):\n",
    "        os.remove(outSHPfn + '.dbf')\n",
    "    if os.path.exists(outSHPfn + '.prj'):\n",
    "        os.remove(outSHPfn + '.prj')\n",
    "    if os.path.exists(outSHPfn + '.cpg'):\n",
    "        os.remove(outSHPfn + '.cpg')\n",
    "    if os.path.exists(outSHPfn + '.shx'):\n",
    "        os.remove(outSHPfn + '.shx')\n",
    "\n",
    "    os.system('venv/bin/ogrmerge.py -single -o ' + outSHPfn + '.shp' + ' ' + inSHPfn + '*.shp')\n",
    "\n",
    "    for file in os.listdir(data_folder + '/tiles'):\n",
    "        os.remove(data_folder + '/tiles/' + file)\n",
    "\n",
    "    for file in os.listdir(data_folder + '/shapes'):\n",
    "        os.remove(data_folder + '/shapes/' + file)\n",
    "\n",
    "    for file in os.listdir(data_folder + '/masks'):\n",
    "        os.remove(data_folder + '/masks/' + file)\n",
    "\n",
    "    gdf = gp.read_file(outSHPfn + '.shp')\n",
    "    gpproj = gdf.crs\n",
    "    gdf['x'] = gdf.centroid.map(lambda p: p.x)\n",
    "    gdf['y'] = gdf.centroid.map(lambda p: p.y)\n",
    "    gdf['type']= type\n",
    "    del gdf['DN']\n",
    "    gdf.insert(0, 'ID', range(1, 1 + len(gdf)))\n",
    "    gdf = gdf.to_crs('EPSG:3116')\n",
    "    gdf['area']= gdf['geometry'].area\n",
    "    gdf = gdf.to_crs(gpproj)\n",
    "    gdf.to_file(outSHPfn + '.shp')"
   ]
  }
 ],
 "metadata": {
  "kernelspec": {
   "display_name": "Python 3",
   "language": "python",
   "name": "python3"
  },
  "language_info": {
   "codemirror_mode": {
    "name": "ipython",
    "version": 3
   },
   "file_extension": ".py",
   "mimetype": "text/x-python",
   "name": "python",
   "nbconvert_exporter": "python",
   "pygments_lexer": "ipython3",
   "version": "3.7.4"
  },
  "latex_envs": {
   "LaTeX_envs_menu_present": true,
   "autoclose": false,
   "autocomplete": true,
   "bibliofile": "biblio.bib",
   "cite_by": "apalike",
   "current_citInitial": 1,
   "eqLabelWithNumbers": true,
   "eqNumInitial": 1,
   "hotkeys": {
    "equation": "Ctrl-E",
    "itemize": "Ctrl-I"
   },
   "labels_anchors": false,
   "latex_user_defs": false,
   "report_style_numbering": false,
   "user_envs_cfg": false
  },
  "toc": {
   "base_numbering": 1,
   "nav_menu": {},
   "number_sections": true,
   "sideBar": true,
   "skip_h1_title": false,
   "title_cell": "Table of Contents",
   "title_sidebar": "Contents",
   "toc_cell": false,
   "toc_position": {},
   "toc_section_display": true,
   "toc_window_display": false
  },
  "varInspector": {
   "cols": {
    "lenName": 16,
    "lenType": 16,
    "lenVar": 40
   },
   "kernels_config": {
    "python": {
     "delete_cmd_postfix": "",
     "delete_cmd_prefix": "del ",
     "library": "var_list.py",
     "varRefreshCmd": "print(var_dic_list())"
    },
    "r": {
     "delete_cmd_postfix": ") ",
     "delete_cmd_prefix": "rm(",
     "library": "var_list.r",
     "varRefreshCmd": "cat(var_dic_list()) "
    }
   },
   "types_to_exclude": [
    "module",
    "function",
    "builtin_function_or_method",
    "instance",
    "_Feature"
   ],
   "window_display": false
  }
 },
 "nbformat": 4,
 "nbformat_minor": 2
}
